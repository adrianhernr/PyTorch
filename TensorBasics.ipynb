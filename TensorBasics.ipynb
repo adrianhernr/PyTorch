{
  "nbformat": 4,
  "nbformat_minor": 0,
  "metadata": {
    "colab": {
      "name": "TensorBasics.ipynb",
      "provenance": [],
      "collapsed_sections": []
    },
    "kernelspec": {
      "name": "python3",
      "display_name": "Python 3"
    },
    "accelerator": "GPU"
  },
  "cells": [
    {
      "cell_type": "markdown",
      "metadata": {
        "id": "W_3gsGSerduE",
        "colab_type": "text"
      },
      "source": [
        "Uno de los conceptos más frecuentes en machine learning es el de **tensor.** Un tensor es la generalización del concepto de vector utilizando el rango para definir el número de indices del tensor. \n",
        "Por ejemplo, un vector es un tensor de rango 1, una matriz es un tensor de rango 2 y un tensor de rango tres sería una matriz con un eje extra.\n",
        "La clase torch.tensor de PyTorch pemite trabajar cómodamente con tensores tanto en la CPU como en la GPU.\n",
        "Existen diferentes formas de crear un tensor. "
      ]
    },
    {
      "cell_type": "code",
      "metadata": {
        "id": "u2Ha3w_YrZfe",
        "colab_type": "code",
        "colab": {
          "base_uri": "https://localhost:8080/",
          "height": 219
        },
        "outputId": "12da0499-e341-4a43-8c32-06fa1af68e0b"
      },
      "source": [
        "import torch\n",
        "import numpy as np\n",
        "\n",
        "#A partir de una lista de Python\n",
        "list = ([1,2],[3,4],[5,6])\n",
        "tensor1=torch.tensor(list)\n",
        "print(tensor1)\n",
        "\n",
        "#A partir de los datos directamente\n",
        "tensor2=torch.tensor([[[1, 2, 3],[4, 5, 6]],[[1, 2, 3],[4, 5, 6]]])\n",
        "print(tensor2)\n",
        "\n",
        "#A partir de un array numpy\n",
        "tensor3=torch.tensor(np.array([1,2,3,4]))\n",
        "print(tensor3)\n",
        "\n",
        "#Usando una operación de creación de tensores\n",
        "tensor4=torch.rand(2,3)\n",
        "print(tensor4)"
      ],
      "execution_count": 2,
      "outputs": [
        {
          "output_type": "stream",
          "text": [
            "tensor([[1, 2],\n",
            "        [3, 4],\n",
            "        [5, 6]])\n",
            "tensor([[[1, 2, 3],\n",
            "         [4, 5, 6]],\n",
            "\n",
            "        [[1, 2, 3],\n",
            "         [4, 5, 6]]])\n",
            "tensor([1, 2, 3, 4])\n",
            "tensor([[0.6060, 0.8052, 0.1538],\n",
            "        [0.8096, 0.6612, 0.4279]])\n"
          ],
          "name": "stdout"
        }
      ]
    },
    {
      "cell_type": "code",
      "metadata": {
        "id": "sOjQ8aBtwwRr",
        "colab_type": "code",
        "colab": {
          "base_uri": "https://localhost:8080/",
          "height": 54
        },
        "outputId": "45c85043-72cc-4a4b-c8ee-363607f390d0"
      },
      "source": [
        "#A través del método size se obtiene el tamaño del tensor, su rango y las dimensiones\n",
        "\n",
        "#Un tensor de rango 2 (3,2) para tensor1\n",
        "print(tensor1.size())\n",
        "\n",
        "#Un tensor de rango 3 con las dimensiones (2,2,3) para tensor2\n",
        "print(tensor2.size())"
      ],
      "execution_count": 22,
      "outputs": [
        {
          "output_type": "stream",
          "text": [
            "torch.Size([3, 2])\n",
            "torch.Size([2, 2, 3])\n"
          ],
          "name": "stdout"
        }
      ]
    },
    {
      "cell_type": "code",
      "metadata": {
        "id": "Ms7MJMQp0vfA",
        "colab_type": "code",
        "colab": {
          "base_uri": "https://localhost:8080/",
          "height": 90
        },
        "outputId": "063a09d0-5a91-4804-b91e-1c35a34304cf"
      },
      "source": [
        "#A los componentes de los tensores se puede acceder como usualmente en Python\n",
        "print(tensor1[0])\n",
        "print(tensor1[0,1])\n",
        "\n",
        "#Con view se cambia las dimensiones y el rango del tensor\n",
        "tensor5=torch.rand(2,4)\n",
        "print(tensor5.size())\n",
        "\n",
        "tensor6=tensor5.view(8)\n",
        "print(tensor6.size())"
      ],
      "execution_count": 36,
      "outputs": [
        {
          "output_type": "stream",
          "text": [
            "tensor([1, 2])\n",
            "tensor(2)\n",
            "torch.Size([2, 4])\n",
            "torch.Size([8])\n"
          ],
          "name": "stdout"
        }
      ]
    },
    {
      "cell_type": "code",
      "metadata": {
        "id": "IYQCkBBJ3vC6",
        "colab_type": "code",
        "colab": {
          "base_uri": "https://localhost:8080/",
          "height": 35
        },
        "outputId": "23f207cc-e658-40b0-e3ee-8ec45ef66054"
      },
      "source": [
        "#Un tensor se puede crear con requires_grad=True para que torch.autograd registre las operaciones y realice la diferenciación automática\n",
        "\n",
        "x = torch.tensor([2],dtype=torch.float,requires_grad=True)\n",
        "y = x.pow(3)\n",
        "y.backward()\n",
        "x.grad"
      ],
      "execution_count": 49,
      "outputs": [
        {
          "output_type": "execute_result",
          "data": {
            "text/plain": [
              "tensor([12.])"
            ]
          },
          "metadata": {
            "tags": []
          },
          "execution_count": 49
        }
      ]
    },
    {
      "cell_type": "code",
      "metadata": {
        "id": "LcloUxSc6J4W",
        "colab_type": "code",
        "colab": {
          "base_uri": "https://localhost:8080/",
          "height": 35
        },
        "outputId": "d8b95583-6555-4b01-d5f7-72effdbe793f"
      },
      "source": [
        "#PyTorch permite trabajar con CUDA para realizar las operaciones en la GPU\n",
        "torch.cuda.is_available()\n",
        "torch.cuda.current_device()\n",
        "print(torch.cuda.get_device_name(0))"
      ],
      "execution_count": 3,
      "outputs": [
        {
          "output_type": "stream",
          "text": [
            "Tesla T4\n"
          ],
          "name": "stdout"
        }
      ]
    },
    {
      "cell_type": "code",
      "metadata": {
        "id": "OQvvFzKT69pA",
        "colab_type": "code",
        "colab": {
          "base_uri": "https://localhost:8080/",
          "height": 54
        },
        "outputId": "1d33a2d1-3c99-4fd6-e3d2-6dcfdd7681ce"
      },
      "source": [
        "#Comparación del tiempo en realizar una multiplicaión de matrices en la CPU y en la GPU\n",
        "%%time\n",
        "for i in range(500):\n",
        "  x = torch.randn(1000,1000)\n",
        "  y = torch.randn(1000,1000)\n",
        "  z = torch.matmul(x,y)\n"
      ],
      "execution_count": 11,
      "outputs": [
        {
          "output_type": "stream",
          "text": [
            "CPU times: user 14.6 s, sys: 57.1 ms, total: 14.6 s\n",
            "Wall time: 14.7 s\n"
          ],
          "name": "stdout"
        }
      ]
    },
    {
      "cell_type": "code",
      "metadata": {
        "id": "n0BwXlOP7W78",
        "colab_type": "code",
        "colab": {
          "base_uri": "https://localhost:8080/",
          "height": 54
        },
        "outputId": "7d8c72c9-671f-4cd8-f93d-0a366899d9cd"
      },
      "source": [
        "#Se realiza la multiplicación en la GPU\n",
        "%%time\n",
        "cuda0 = torch.device('cuda:0')\n",
        "for i in range(500):\n",
        "  x = torch.randn(1000,1000,device = cuda0)\n",
        "  y = torch.randn(1000,1000,device =cuda0)\n",
        "  z = torch.matmul(x,y)"
      ],
      "execution_count": 10,
      "outputs": [
        {
          "output_type": "stream",
          "text": [
            "CPU times: user 101 ms, sys: 101 ms, total: 202 ms\n",
            "Wall time: 208 ms\n"
          ],
          "name": "stdout"
        }
      ]
    }
  ]
}