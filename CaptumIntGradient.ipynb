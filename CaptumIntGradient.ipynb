{
  "nbformat": 4,
  "nbformat_minor": 0,
  "metadata": {
    "colab": {
      "name": "CaptumIntGradient.ipynb",
      "provenance": [],
      "collapsed_sections": []
    },
    "kernelspec": {
      "name": "python3",
      "display_name": "Python 3"
    }
  },
  "cells": [
    {
      "cell_type": "markdown",
      "metadata": {
        "id": "mYepUNnBhGhZ",
        "colab_type": "text"
      },
      "source": [
        "Captum es una librería de PyTorch para proporcionar interpretabilidad a los modelos de deep learning. Con la complejidad de los actuales modelos de deep learning, la interpretabilidad y explicabilidad de los modelos es clave. \n",
        "Los algoritmos de interpretabilidad de [Captum](https://captum.ai) se separan en tres grupos:\n",
        "\n",
        "*   Atribución primaria: Evalúa la contribución de cada parte de la entrada a la salida. \n",
        "*   Atribución de capa: Evalúa la contribución de cada neurona de una capa a la salida.\n",
        "*   Atribución de neurona: Evalúa la contribución de cada parte de la entrada en la activación de cualquier neurona oculta.\n",
        "\n",
        "En este post vamos a analizar el método de gradiente integrado (integrated gradient) que pertenece a los algoritmos de atribución primaria."
      ]
    },
    {
      "cell_type": "markdown",
      "metadata": {
        "id": "szN-I0d54oOQ",
        "colab_type": "text"
      },
      "source": [
        "El gradiente integrado, explicado en este [artículo](https://arxiv.org/abs/1703.01365), calcula la integral de los gradientes de la salida respecto a la entrada a lo largo de la trayectoria que va desde la línea base a la entrada. De esta forma, calcula qué elementos de la entrada producen un mayor cambio en la salida y puede asignarles una atribución.\n",
        "En este post, vamos a ver un ejemplo. Primero instalamos la librería Captum con el comando pip."
      ]
    },
    {
      "cell_type": "code",
      "metadata": {
        "id": "YDiAZDmKZCgh",
        "colab_type": "code",
        "colab": {}
      },
      "source": [
        "!pip install captum"
      ],
      "execution_count": 0,
      "outputs": []
    },
    {
      "cell_type": "markdown",
      "metadata": {
        "id": "Hk02zLGL6nQ6",
        "colab_type": "text"
      },
      "source": [
        "Creamos un modelo ejemplo sobre el cuál aplicaremos el método de gradiente integrado, creamos una instancia del modelo y vemos los parámetros. En este caso el modelo es una simple capa lineal con rectificación. "
      ]
    },
    {
      "cell_type": "code",
      "metadata": {
        "id": "307TxWZNZiZi",
        "colab_type": "code",
        "colab": {
          "base_uri": "https://localhost:8080/",
          "height": 90
        },
        "outputId": "c384e636-b66c-4655-9954-836864e4ca85"
      },
      "source": [
        "import torch\n",
        "import torch.nn as nn\n",
        "import captum\n",
        "from captum.attr import IntegratedGradients\n",
        "\n",
        "class Net(nn.Module):\n",
        "    def __init__(self):\n",
        "        super(Net, self).__init__()                    \n",
        "        self.fc1 = nn.Linear(5, 1)  \n",
        "        self.relu1 = nn.ReLU()                          \n",
        "    \n",
        "    def forward(self, x):                              \n",
        "        out = self.fc1(x)\n",
        "        out = self.relu1(out)\n",
        "        return out\n",
        "\n",
        "\n",
        "net = Net()\n",
        "net.eval()"
      ],
      "execution_count": 26,
      "outputs": [
        {
          "output_type": "execute_result",
          "data": {
            "text/plain": [
              "Net(\n",
              "  (fc1): Linear(in_features=5, out_features=1, bias=True)\n",
              "  (relu1): ReLU()\n",
              ")"
            ]
          },
          "metadata": {
            "tags": []
          },
          "execution_count": 26
        }
      ]
    },
    {
      "cell_type": "code",
      "metadata": {
        "id": "Bku5rw8gaM3u",
        "colab_type": "code",
        "outputId": "66163870-809c-44d0-ba19-01776a354f73",
        "colab": {
          "base_uri": "https://localhost:8080/",
          "height": 54
        }
      },
      "source": [
        "    for name, param in net.named_parameters():\n",
        "        print (name, param.data)"
      ],
      "execution_count": 27,
      "outputs": [
        {
          "output_type": "stream",
          "text": [
            "fc1.weight tensor([[ 0.1529, -0.2725, -0.1739,  0.3921,  0.2883]])\n",
            "fc1.bias tensor([0.3977])\n"
          ],
          "name": "stdout"
        }
      ]
    },
    {
      "cell_type": "markdown",
      "metadata": {
        "id": "xDNMHGVS7WA9",
        "colab_type": "text"
      },
      "source": [
        "Después creamos un tensor entrada y un tensor línea de base. En muchos problemas se coge el tensor cero como línea base. Creamos una instancia del algoritmo de gradiente integrado pasándole la instancia del modelo creado. Finalmente llamamos al método de la instancia para que calcule las atribuciones de las diferentes entradas del modelo usando el tensor entrada y la línea de base creadas."
      ]
    },
    {
      "cell_type": "code",
      "metadata": {
        "id": "XDeoCKwwaTgp",
        "colab_type": "code",
        "outputId": "4a2cb3ce-0de0-4c2d-cb59-86bce4e27c01",
        "colab": {
          "base_uri": "https://localhost:8080/",
          "height": 54
        }
      },
      "source": [
        "input=torch.rand(1,5)\n",
        "baseline=torch.zeros(1,5)\n",
        "\n",
        "ig = IntegratedGradients(net)\n",
        "\n",
        "attributions, delta = ig.attribute(input, baseline, target=0, return_convergence_delta=True)\n",
        "print('IG Attributions:', attributions)\n",
        "print('Convergence Delta:', delta)\n"
      ],
      "execution_count": 28,
      "outputs": [
        {
          "output_type": "stream",
          "text": [
            "IG Attributions: tensor([[ 0.1125, -0.0341, -0.1563,  0.1409,  0.1620]])\n",
            "Convergence Delta: tensor([0.])\n"
          ],
          "name": "stdout"
        }
      ]
    },
    {
      "cell_type": "markdown",
      "metadata": {
        "id": "VlWuidUZ8eVL",
        "colab_type": "text"
      },
      "source": [
        "El algoritmo nos proporciona dos conjuntos de valores:\n",
        "\n",
        "*   Una delta de convergencia que cuantifica el error de aproximación. Cuanto menor es la delta, mejor la aproximación.\n",
        "*   Un score de aproximación para cada elemento de la entrada. Una atribución positiva significa que dicho elemento contribuye de manera positiva a la predicción final, negativa lo contrario y cero que no contribuye."
      ]
    }
  ]
}