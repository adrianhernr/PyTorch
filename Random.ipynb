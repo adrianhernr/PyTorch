{
  "nbformat": 4,
  "nbformat_minor": 0,
  "metadata": {
    "colab": {
      "name": "Random.ipynb",
      "provenance": [],
      "collapsed_sections": []
    },
    "kernelspec": {
      "name": "python3",
      "display_name": "Python 3"
    },
    "language_info": {
      "name": "python"
    }
  },
  "cells": [
    {
      "cell_type": "markdown",
      "metadata": {
        "id": "DGtyW8KFeKo7"
      },
      "source": [
        "En los modelos de deep learning puede haber varias fuentes de aleatoriedad. Los parámetros del modelo, algunos vectores iniciales y algunas variables auxiliares pueden requerir un valor inicial aleatorio. Por ello es necesario realizar ciertas acciones para que los modelos tengan la máxima reproducibilidad.\n",
        "\n",
        "Lo primero es controlar las fuentes de aleatoriedad que causan que el modelo se comporte diferente en cada ejecución.\n",
        "\n",
        "En Python, el metodo seed() se usa para inicializar el generador de números pseudoaleatorios random. Cualquier generador de números pseudoaleatorios necesita un valor inicial (seed) y por defecto el generador coge la hora actual del sistema.\n",
        "\n",
        "A través del método seed() se puede fijar el valor inicial del generador."
      ]
    },
    {
      "cell_type": "code",
      "metadata": {
        "colab": {
          "base_uri": "https://localhost:8080/"
        },
        "id": "0Xq30VJVh0UN",
        "outputId": "24bd166b-7626-49ed-b3da-3d04706eabfc"
      },
      "source": [
        "import random\n",
        "\n",
        "random.seed(10)\n",
        "print(random.random())\n",
        "\n",
        "random.seed(10)\n",
        "print(random.random()) "
      ],
      "execution_count": 1,
      "outputs": [
        {
          "output_type": "stream",
          "name": "stdout",
          "text": [
            "0.5714025946899135\n",
            "0.5714025946899135\n"
          ]
        }
      ]
    },
    {
      "cell_type": "markdown",
      "metadata": {
        "id": "tw7r6mGajcqc"
      },
      "source": [
        "Como se puede ver, fijando la semilla el valor generado es el mismo en diferentes ejecuciones. En PyTorch con el método torch.manual_seed() se puede fijar el valor inicial o semilla de los generadores pseudoaleatorios tanto de la CPU como la GPU."
      ]
    },
    {
      "cell_type": "code",
      "metadata": {
        "colab": {
          "base_uri": "https://localhost:8080/"
        },
        "id": "_cuyil4SrDC1",
        "outputId": "b855dd03-8cd7-4688-9ebc-e04fe8146d08"
      },
      "source": [
        "import torch\n",
        "torch.manual_seed(2)\n",
        "print(torch.rand(2, 3))\n",
        "\n",
        "torch.manual_seed(2)\n",
        "print(torch.rand(2, 3))"
      ],
      "execution_count": 4,
      "outputs": [
        {
          "output_type": "stream",
          "name": "stdout",
          "text": [
            "tensor([[0.6147, 0.3810, 0.6371],\n",
            "        [0.4745, 0.7136, 0.6190]])\n",
            "tensor([[0.6147, 0.3810, 0.6371],\n",
            "        [0.4745, 0.7136, 0.6190]])\n"
          ]
        }
      ]
    },
    {
      "cell_type": "markdown",
      "metadata": {
        "id": "PEJkrhoWkPa7"
      },
      "source": [
        "Después, es necesario configurar PyTorch para evitar usar algoritmos nodeterministas en determinadas operaciones, de forma que múltiples llamadas a estas operaciones con la misma entrada produzcan el mismo resultado.\n",
        "\n",
        "torch.use_deterministic_algorithms() permite configurar PyTorch para que use algoritmos deterministas en lugar de nodeterministas cuando se pueda, lanzando un error si no hay un algorimo determinista alternativo. Por ejemplo, las siguientes operaciones nodeterministas, entre otras, pueden comportarse de manera determinista:\n",
        "\n",
        "*   torch.nn.Conv1d en CUDA.\n",
        "*   torch.nn.Conv2d en CUDA.\n",
        "*   torch.nn.ConvTranspose1d en CUDA.\n",
        "*   torch.nn.ConvTranspose2d en CUDA.\n",
        "\n",
        "Por lo tanto, para garantizar la reproducibilidad es necesario ser consciente de las fuentes de aleatoriedad en nuetros modelos, identificarlas e intentar controlarlas.\n"
      ]
    }
  ]
}