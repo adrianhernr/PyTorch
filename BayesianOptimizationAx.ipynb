{
  "nbformat": 4,
  "nbformat_minor": 0,
  "metadata": {
    "colab": {
      "name": "BayesianOptimizationAx.ipynb",
      "provenance": [],
      "collapsed_sections": []
    },
    "kernelspec": {
      "name": "python3",
      "display_name": "Python 3"
    },
    "accelerator": "GPU"
  },
  "cells": [
    {
      "cell_type": "code",
      "metadata": {
        "id": "TvFyqUeSAjbO",
        "colab_type": "code",
        "colab": {}
      },
      "source": [
        "!pip3 install ax-platform"
      ],
      "execution_count": 0,
      "outputs": []
    },
    {
      "cell_type": "code",
      "metadata": {
        "id": "Pde2N8EMA_eL",
        "colab_type": "code",
        "colab": {}
      },
      "source": [
        "from ax import optimize\n",
        "\n",
        "def rosenbrock_function(parameterization):\n",
        "    x=parameterization.get(f\"x{1}\")\n",
        "    y=parameterization.get(f\"x{2}\")\n",
        "    z = (1-x)**2 + 100*(y-x**2)**2\n",
        "    return z\n",
        "\n",
        "def convex_function(parameterization):\n",
        "    x=parameterization.get(f\"x{1}\")\n",
        "    y=parameterization.get(f\"x{2}\")\n",
        "    z = (x-0.4)**2 + (y-0.7)**2\n",
        "    return z\n",
        "\n",
        "best_parameters, best_values, experiment, model = optimize(\n",
        "        parameters=[\n",
        "          {\n",
        "            \"name\": \"x1\",\n",
        "            \"type\": \"range\",\n",
        "            \"bounds\": [-3.0, 3.0],\n",
        "          },\n",
        "          {\n",
        "            \"name\": \"x2\",\n",
        "            \"type\": \"range\",\n",
        "            \"bounds\": [-3.0, 3.0],\n",
        "          },\n",
        "        ],\n",
        "        experiment_name=\"test\",\n",
        "        objective_name=\"Rosenbrock\",\n",
        "        evaluation_function=convex_function,\n",
        "        minimize=True,\n",
        "        total_trials=30,\n",
        ")"
      ],
      "execution_count": 0,
      "outputs": []
    },
    {
      "cell_type": "code",
      "metadata": {
        "id": "EyAdHXpyM3qV",
        "colab_type": "code",
        "colab": {}
      },
      "source": [
        "best_parameters"
      ],
      "execution_count": 0,
      "outputs": []
    },
    {
      "cell_type": "code",
      "metadata": {
        "id": "7ru2kOIzBTJD",
        "colab_type": "code",
        "colab": {}
      },
      "source": [
        "from ax.plot.contour import plot_contour\n",
        "from ax.utils.notebook.plotting import render, init_notebook_plotting\n",
        "\n",
        "\n",
        "plot_contour(model=model, param_x='x1', param_y='x2', metric_name=\"Rosenbrock\")"
      ],
      "execution_count": 0,
      "outputs": []
    }
  ]
}