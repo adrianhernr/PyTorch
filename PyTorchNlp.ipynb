{
  "nbformat": 4,
  "nbformat_minor": 0,
  "metadata": {
    "colab": {
      "name": "PyTorchNlp.ipynb",
      "provenance": [],
      "collapsed_sections": []
    },
    "kernelspec": {
      "name": "python3",
      "display_name": "Python 3"
    }
  },
  "cells": [
    {
      "cell_type": "markdown",
      "metadata": {
        "id": "i90fzQEicvqz",
        "colab_type": "text"
      },
      "source": [
        "En este post vamos a ver la [librería](https://pytorchnlp.readthedocs.io) PyTorch-NLP, una librería abierta para procesamiento de lenguaje natural basada en PyTorch y que viene con módulos interesantes de datasets, embeddings preentrenados, codificadores de texto, redes neuronales, etc."
      ]
    },
    {
      "cell_type": "markdown",
      "metadata": {
        "id": "zK5wjQGsd7Vv",
        "colab_type": "text"
      },
      "source": [
        "El paquete torchnlp.datasets tiene módulos para descargar, almacenar y cargar datasets para procesamiento de lenguaje natural. Los módulos devuelven objetos torch.utils.data.Dataset, como los que vimos en el [post](https://mlearninglab.com/2020/04/04/datasets-y-dataloader-en-pytorch/) sobre estas clases. Estos objetos tienen métodos para elegir y seleccionar elementos y se puedan pasar al dataloader para el proceso de carga y entrenamiento.\n",
        "\n",
        "A continuación, instalamos la libreria pytorch-nlp y vemos el dataset IMDB que contiene revisiones de películas con su correspondiente clasificación."
      ]
    },
    {
      "cell_type": "code",
      "metadata": {
        "id": "gi0CBS12fp1-",
        "colab_type": "code",
        "outputId": "22a6e607-f2aa-4a5b-bb3a-6b5f1f2d5ee8",
        "colab": {
          "base_uri": "https://localhost:8080/",
          "height": 166
        }
      },
      "source": [
        "pip install pytorch-nlp"
      ],
      "execution_count": 0,
      "outputs": [
        {
          "output_type": "stream",
          "text": [
            "Collecting pytorch-nlp\n",
            "\u001b[?25l  Downloading https://files.pythonhosted.org/packages/4f/51/f0ee1efb75f7cc2e3065c5da1363d6be2eec79691b2821594f3f2329528c/pytorch_nlp-0.5.0-py3-none-any.whl (90kB)\n",
            "\r\u001b[K     |███▋                            | 10kB 15.3MB/s eta 0:00:01\r\u001b[K     |███████▎                        | 20kB 3.1MB/s eta 0:00:01\r\u001b[K     |███████████                     | 30kB 4.4MB/s eta 0:00:01\r\u001b[K     |██████████████▌                 | 40kB 2.9MB/s eta 0:00:01\r\u001b[K     |██████████████████▏             | 51kB 3.4MB/s eta 0:00:01\r\u001b[K     |█████████████████████▉          | 61kB 4.1MB/s eta 0:00:01\r\u001b[K     |█████████████████████████▌      | 71kB 4.7MB/s eta 0:00:01\r\u001b[K     |█████████████████████████████   | 81kB 5.2MB/s eta 0:00:01\r\u001b[K     |████████████████████████████████| 92kB 4.1MB/s \n",
            "\u001b[?25hRequirement already satisfied: numpy in /usr/local/lib/python3.6/dist-packages (from pytorch-nlp) (1.18.2)\n",
            "Requirement already satisfied: tqdm in /usr/local/lib/python3.6/dist-packages (from pytorch-nlp) (4.38.0)\n",
            "Installing collected packages: pytorch-nlp\n",
            "Successfully installed pytorch-nlp-0.5.0\n"
          ],
          "name": "stdout"
        }
      ]
    },
    {
      "cell_type": "code",
      "metadata": {
        "id": "p81Va8NQgD1h",
        "colab_type": "code",
        "colab": {}
      },
      "source": [
        "import torch\n",
        "from torch.utils.data import Dataset\n",
        "from torchnlp.datasets import imdb_dataset\n",
        "\n",
        "#Creamos un objeto dataset con los datos\n",
        "dataset1 = imdb_dataset(train=True)"
      ],
      "execution_count": 0,
      "outputs": []
    },
    {
      "cell_type": "code",
      "metadata": {
        "id": "Duc1Gw8zg7ou",
        "colab_type": "code",
        "outputId": "b16f80fa-5045-4bd0-a7a3-1ef8c2109944",
        "colab": {
          "base_uri": "https://localhost:8080/",
          "height": 166
        }
      },
      "source": [
        "#La longitud de la muestra para entrenamiento es de 25000\n",
        "print(len(dataset1))\n",
        "\n",
        "#Vemos los cuatro primeros\n",
        "dataset1[0:3]"
      ],
      "execution_count": 41,
      "outputs": [
        {
          "output_type": "stream",
          "text": [
            "25000\n"
          ],
          "name": "stdout"
        },
        {
          "output_type": "execute_result",
          "data": {
            "text/plain": [
              "[{'sentiment': 'pos',\n",
              "  'text': 'Elephant Walk (1954) Starring an early Peter Finch as lord of the manor in some God-forsaken plantation where there is always the danger of elephants or mad Englishmen, staying out in the midday sun and going berserk. Well eventually they do, after the typhoid or cholera outbreak, of course, and much mayhem ensues. Taylor replaced an ailing Vivien Leigh in this pot boiler/adventure flick. When the elephants storm the house and trap Liz on the grand staircase I still get goose bumps. Thank goodness Dana Andrews is around to save the day. One of my favorite guilty pleasures. In color too!'},\n",
              " {'sentiment': 'pos',\n",
              "  'text': \"Another reason to watch this delightful movie is Florence Rice. Florence who? That was my first reaction as the opening credits ran on the screen. I soon found out who Florence Rice was, A real beauty who turns in a simply wonderful performance. As they all do in this gripping ensemble piece. From 1939, its a different time but therein lies the charm. It transports you into another world. It starts out as a light comedy but then turns very serious. Florence Rice runs the gamut from comedienne to heroine. She is absolutely delightful, at the same time strong, vulnerable evolving from a girl to a woman.Watch her facial expressions at the end of the movie. She made over forty movies, and I am going to seek out the other thirty nine. Alan Marshal is of the Flynn/Gable mode and proves a perfect match for Florence. Buddy Ebsen and Una Merkel provide some excellent comic moments, but the real star is Florence Rice. Fans of 30's/40's movies, Don't miss this one!\"},\n",
              " {'sentiment': 'pos',\n",
              "  'text': 'A young woman who is a successful model, and is also engaged to be married, and who has twice attempted suicide in the past, is chosen by a secretive and distant association of Catholic priests to be the next \"sentinel\" to the gateway to Hell, which apparently goes through a creepy old, but well maintained Brooklyn apartment building. Its tenants take the stairway up and can reincarnate themselves, but apparently can\\'t escape as long as a sentinel is there to block the way. The previous one(John Carradine) is about dead, so she, by fate or whatever, becomes the next one, and the doomed must get her to kill herself in order for them to be free. Lots of interesting details lie under the surface, her relationship with her father, the stories of the doomed, her fiancé, so one can pass this off as cheap exploitation horror, but given the sets, the great cast, and overall level of bizarreness, this is definitely worth seeing.'}]"
            ]
          },
          "metadata": {
            "tags": []
          },
          "execution_count": 41
        }
      ]
    },
    {
      "cell_type": "code",
      "metadata": {
        "id": "K0osxx3X3gpF",
        "colab_type": "code",
        "outputId": "30f1bd77-62e9-4614-9a2b-8ed08b6e7136",
        "colab": {
          "base_uri": "https://localhost:8080/",
          "height": 35
        }
      },
      "source": [
        "#Vemos la calificaión del primero\n",
        "dataset1[0]['sentiment']"
      ],
      "execution_count": 42,
      "outputs": [
        {
          "output_type": "execute_result",
          "data": {
            "text/plain": [
              "'pos'"
            ]
          },
          "metadata": {
            "tags": []
          },
          "execution_count": 42
        }
      ]
    },
    {
      "cell_type": "markdown",
      "metadata": {
        "id": "u1QM4hbx0ey9",
        "colab_type": "text"
      },
      "source": [
        "A continuación, extraemos los valores del diccionario en dos listas, una para el texto y otra para las etiquetas."
      ]
    },
    {
      "cell_type": "code",
      "metadata": {
        "id": "PdB-9QEAufY8",
        "colab_type": "code",
        "colab": {}
      },
      "source": [
        "leng=25000\n",
        "\n",
        "text=[]\n",
        "label=[]\n",
        "for i in range(leng):      \n",
        "        input=dataset1[i]['text']\n",
        "        output=dataset1[i]['sentiment']   \n",
        "        text.append(input)\n",
        "        label.append(output)            "
      ],
      "execution_count": 0,
      "outputs": []
    },
    {
      "cell_type": "markdown",
      "metadata": {
        "id": "cq34P1G6q2yO",
        "colab_type": "text"
      },
      "source": [
        "El paquete torchnlp.encoders tiene clases para codificar texto en tensores y viceversa. A continuación vamos a ver la clase WhitespaceEncoder que codifica un texto separándolo por los espacios en blanco. Importamos el paquete, definimos el texto necesario para construir el diccionario y creamos un objeto WhitespaceEncoder pasándole este texto. \n",
        "\n",
        "Después mostramos el tamaño del diccionario, la lista de tokens del diccionario y por último codificamos un texto ejemplo usando el objeto creado."
      ]
    },
    {
      "cell_type": "code",
      "metadata": {
        "id": "ir6-bHgRp4kv",
        "colab_type": "code",
        "outputId": "85a9d2a8-f5f4-494d-c14d-132d06c5e3eb",
        "colab": {
          "base_uri": "https://localhost:8080/",
          "height": 366
        }
      },
      "source": [
        "from torchnlp.encoders.text import WhitespaceEncoder\n",
        "\n",
        "loaded_data = [\"Esto es un ejemplo de bloque de texto\", \"Se va a utilizar para tokenizar\"]\n",
        "encoder = WhitespaceEncoder(loaded_data)\n",
        "print(encoder.vocab_size)\n",
        "encoder.vocab"
      ],
      "execution_count": 44,
      "outputs": [
        {
          "output_type": "stream",
          "text": [
            "18\n"
          ],
          "name": "stdout"
        },
        {
          "output_type": "execute_result",
          "data": {
            "text/plain": [
              "['<pad>',\n",
              " '<unk>',\n",
              " '</s>',\n",
              " '<s>',\n",
              " '<copy>',\n",
              " 'Esto',\n",
              " 'es',\n",
              " 'un',\n",
              " 'ejemplo',\n",
              " 'de',\n",
              " 'bloque',\n",
              " 'texto',\n",
              " 'Se',\n",
              " 'va',\n",
              " 'a',\n",
              " 'utilizar',\n",
              " 'para',\n",
              " 'tokenizar']"
            ]
          },
          "metadata": {
            "tags": []
          },
          "execution_count": 44
        }
      ]
    },
    {
      "cell_type": "code",
      "metadata": {
        "id": "19GFH2ZRtHCt",
        "colab_type": "code",
        "outputId": "bf4d9a91-459a-4ad2-e191-c40a4e28036e",
        "colab": {
          "base_uri": "https://localhost:8080/",
          "height": 35
        }
      },
      "source": [
        "encoder.encode(\"utilizar un ejemplo\")"
      ],
      "execution_count": 45,
      "outputs": [
        {
          "output_type": "execute_result",
          "data": {
            "text/plain": [
              "tensor([15,  7,  8])"
            ]
          },
          "metadata": {
            "tags": []
          },
          "execution_count": 45
        }
      ]
    },
    {
      "cell_type": "markdown",
      "metadata": {
        "id": "sMBoSDxW9vW0",
        "colab_type": "text"
      },
      "source": [
        "El paquete torchnlp.word_to_vecto tiene varios embeddings preentrenados. A continuación descargamos el modelo Glove. Cargamos la representación (embedding) de la palabra \"Hello\", \"Hi\", \"Welcome\" y \"Car\" y calculamos la diferencia entre dichos vectores usando el error cuadrático medio. Vemos como la palabra más cercana a \"Hello\" es \"Hi\" y la más lejana \"Car\"."
      ]
    },
    {
      "cell_type": "code",
      "metadata": {
        "id": "7qKRSZYk9_C3",
        "colab_type": "code",
        "colab": {
          "base_uri": "https://localhost:8080/",
          "height": 35
        },
        "outputId": "d207688b-5003-4f77-8afc-6429464f6ef9"
      },
      "source": [
        "from torchnlp.word_to_vector import GloVe\n",
        "\n",
        "embedd = GloVe()"
      ],
      "execution_count": 46,
      "outputs": [
        {
          "output_type": "stream",
          "text": [
            "100%|██████████| 2196017/2196017 [05:50<00:00, 6269.42it/s]\n"
          ],
          "name": "stderr"
        }
      ]
    },
    {
      "cell_type": "code",
      "metadata": {
        "id": "vv6twByA-XY-",
        "colab_type": "code",
        "colab": {
          "base_uri": "https://localhost:8080/",
          "height": 72
        },
        "outputId": "382f5ce5-f000-4213-cd34-4700b47642a1"
      },
      "source": [
        "import torch.nn as nn\n",
        "\n",
        "n1=embedd['Hello']\n",
        "n2=embedd['Hi']\n",
        "n3=embedd['Welcome']\n",
        "n4=embedd['Car']\n",
        "\n",
        "loss = nn.MSELoss()\n",
        "dev1=loss(n1,n2)\n",
        "print(dev1)\n",
        "dev2=loss(n1,n3)\n",
        "print(dev2)\n",
        "dev3=loss(n1,n4)\n",
        "print(dev3)"
      ],
      "execution_count": 52,
      "outputs": [
        {
          "output_type": "stream",
          "text": [
            "tensor(0.0457)\n",
            "tensor(0.0792)\n",
            "tensor(0.2429)\n"
          ],
          "name": "stdout"
        }
      ]
    }
  ]
}