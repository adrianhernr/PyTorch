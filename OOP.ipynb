{
  "nbformat": 4,
  "nbformat_minor": 0,
  "metadata": {
    "colab": {
      "name": "OOP.ipynb",
      "provenance": [],
      "collapsed_sections": []
    },
    "kernelspec": {
      "name": "python3",
      "display_name": "Python 3"
    }
  },
  "cells": [
    {
      "cell_type": "markdown",
      "metadata": {
        "id": "tlz3cogD0vCA",
        "colab_type": "text"
      },
      "source": [
        "En este post vamos a repasar algunos conceptos de programación orientada a objetos que son necesarios para comprender el funcionamiento de PyTorch. \n",
        "Recordemos que Python es un lenguaje orientado a objetos y que PyTorch hace uso de esta capacidad para hacer más fácil su uso. \n",
        "\n",
        "La programación orientada a objetos es un paradigma de programación que permite estructurar los programas para que las propiedades y los comportamientos se agrupen en objetos individuales.\n",
        "\n",
        "Por ejemplo, en PyTorch una de las clases más importantes de torch.nn es torch.nn.Module ya que nos pemite extenderla y usar multitud de métodos y atributos interesantes.\n",
        "\n",
        "A continuación presentamos de manera resumida algunos conceptos de programación orientada a objetos:\n",
        "\n",
        "*   Clase: Es un modelo que define los elementos necesarios para crear un objeto que pertenezca a esta clase.\n",
        "*   Objeto: Es una instancia de una clase con atributos concretos. \n",
        "*   Atributos: Tanto las clases como los objetos pueden tener atributos, que son características de estos. Los atributos pueden ser del objeto, que son específicos de la instancia, o de la clase, que son los mismos para todas las instancias de una clase.\n",
        "*   __init__(): Todas las clases tienen este método, que se ejecuta cuando la clase está siendo instanciada y se crea un objeto. Se utiliza para asignar valores a los atributos de un objeto.\n",
        "*   Parámetro self: Es una referencia a la instancia actual de la clase. Usándolo podemos acceder a los atributos y métodos de la clase en Python.\n",
        "*   Métodos del objeto: Los objetos también contienen métodos, que son funciones que especifican un  comportamiento determinado.\n",
        "\n",
        "A continuación mostramos como ejemplo una clase con dos atributos, el método __init__() y un método definido. Creamos una instancia u objeto de la clase y llamamos al método del objeto.\n",
        "\n",
        "\n",
        "\n",
        "\n",
        "\n"
      ]
    },
    {
      "cell_type": "code",
      "metadata": {
        "id": "thzDw9w3xOKu",
        "colab_type": "code",
        "colab": {
          "base_uri": "https://localhost:8080/",
          "height": 35
        },
        "outputId": "990ad9d4-84b7-4c6c-df91-54b049d448d3"
      },
      "source": [
        "#Definimos la clase\n",
        "class Person:\n",
        "  def __init__(self, name, age):\n",
        "    self.name = name\n",
        "    self.age = age\n",
        "\n",
        "  #Definimos el método myfunc dentro de la clase\n",
        "  def myfunc(self):\n",
        "    print(\"Hola mi nombre es \" + self.name)\n",
        "\n",
        "#Creamos una instancia de la clase con los atributos Martin y 32\n",
        "p1 = Person(\"Martn\", 32)\n",
        "\n",
        "#Llammamos al método myfunc de la instancia creada\n",
        "p1.myfunc()"
      ],
      "execution_count": null,
      "outputs": [
        {
          "output_type": "stream",
          "text": [
            "Hola mi nombre es Martn\n"
          ],
          "name": "stdout"
        }
      ]
    },
    {
      "cell_type": "markdown",
      "metadata": {
        "id": "-Y6BRw19gzuh",
        "colab_type": "text"
      },
      "source": [
        "En el ejemplo anterior, hemos visto como una clase se puede llamar directamente para crear una instancia u objeto. En cambio, para que un objeto sea \"llamable directamente\", la clase correspondiente tiene que tener definido el método __call__().\n",
        "\n",
        "A continuación vamos a definir el método __call__() en la definición de la clase para que el objeto sea \"llamable\" directamente."
      ]
    },
    {
      "cell_type": "code",
      "metadata": {
        "id": "XFZrOzRxiZnn",
        "colab_type": "code",
        "colab": {
          "base_uri": "https://localhost:8080/",
          "height": 35
        },
        "outputId": "6e4803c0-ab5f-4940-c668-76a046a92e84"
      },
      "source": [
        "#Definimos la clase\n",
        "class Person:\n",
        "  def __init__(self, name, age):\n",
        "    self.name = name\n",
        "    self.age = age\n",
        "\n",
        "  #Definimos el método __call__() dentro de la clase\n",
        "  def __call__(self):\n",
        "    return self.age  \n",
        "  \n",
        "  #Definimos el método myfunc dentro de la clase\n",
        "  def myfunc(self):\n",
        "    print(\"Hola mi nombre es \" + self.name)\n",
        "\n",
        "#Creamos una instancia de la clase con los atributos Martin y 32\n",
        "p1 = Person(\"Martn\", 32)\n",
        "\n",
        "#Llammamos diretamente a la instancia creada\n",
        "p1()"
      ],
      "execution_count": null,
      "outputs": [
        {
          "output_type": "execute_result",
          "data": {
            "text/plain": [
              "32"
            ]
          },
          "metadata": {
            "tags": []
          },
          "execution_count": 2
        }
      ]
    },
    {
      "cell_type": "markdown",
      "metadata": {
        "id": "COGAHFRpjf-x",
        "colab_type": "text"
      },
      "source": [
        "Otro concepto muy importante es programación orientada a objetos es el de la herencia, que permite que una clase use los atributos y métodos de otra. La clase hijo se deriva de la clase padre. \n",
        "\n",
        "La clase hijo sobreescribe o extiende la funcionalidad (métodos y atributos) de la clase padre, es decir, hereda todos los métodos y atributos de la clase padre pero también puede modificarlos o definir los suyos propios.\n",
        "\n",
        "En PyTorch, cuando definimos un modelo de deep learning, normalmente definimos una clase que extiende la clase torch.nn.Module, para aprovechar los atributos y métodos que está clase tiene definidos.\n",
        "\n",
        "Para ello, es necesario:\n",
        "\n",
        "*   En el constructor del modelo __init__() inicializamos la superclase con super.init(), de esta forma podemos usar los atributos de la clase padre torch.nn.Module.\n",
        "*  En __init__() también definimos los componentes que queremos que tenga el modelo, como por ejemplo cada una de las capas.\n",
        "*   Sobreescribimos el método forward que realiza el forward pass con las operaciones para calcular la/s salida/s.\n",
        "*   El método __call__() llama al método forward por lo que el objeto creado cuando instanciamos la clase definida será directamente \"llamable\".\n",
        "\n",
        "A continuación vamos a definir la clase Net, que extiende la clase nn.Module definiendo una red neuronal con una capa intermedia."
      ]
    },
    {
      "cell_type": "code",
      "metadata": {
        "id": "5rnlNd3QulFx",
        "colab_type": "code",
        "colab": {}
      },
      "source": [
        "import torch\n",
        "import torch.nn as nn\n",
        "\n",
        "class Net(nn.Module):\n",
        "    def __init__(self, input_size, hidden_size, num_classes):\n",
        "        super(Net, self).__init__()                    \n",
        "        self.fc1 = nn.Linear(input_size, hidden_size)  \n",
        "        self.relu = nn.ReLU()                          \n",
        "        self.fc2 = nn.Linear(hidden_size, num_classes) \n",
        "    \n",
        "    def forward(self, x):                              \n",
        "        out = self.fc1(x)\n",
        "        out = self.relu(out)\n",
        "        out = self.fc2(out)\n",
        "        return out"
      ],
      "execution_count": 4,
      "outputs": []
    },
    {
      "cell_type": "markdown",
      "metadata": {
        "id": "0w9vjJfwup0U",
        "colab_type": "text"
      },
      "source": [
        "Como se puede ver, en el constructor init() inicializamos la superclase nn.Module y definimos la capa lineal, el rectificador y una última capa lineal. Sobreescribimos el método forward con el flujo de operaciones a realizar a partir de la entrada x.\n",
        "\n",
        "Ahora creamos una instancia u objeto del modelo con los parámetros especificados en init() y llamamos directamente a la instancia creada \"modelo\" pasándole el tensor de entrada x."
      ]
    },
    {
      "cell_type": "code",
      "metadata": {
        "id": "ee9eeWZUvdQO",
        "colab_type": "code",
        "colab": {
          "base_uri": "https://localhost:8080/",
          "height": 146
        },
        "outputId": "0a1e8e5a-6a34-43ee-9bc9-1c5f6dabda9d"
      },
      "source": [
        "#Creamos una instancia del modelo\n",
        "modelo1=Net(150,200,10)\n",
        "#Llamamos a la instancia creada para calcular la salida\n",
        "x=torch.rand(150)\n",
        "output=modelo1(x)\n",
        "print(output)\n",
        "\n",
        "#Vemos la estructura del modelo\n",
        "print(modelo1)"
      ],
      "execution_count": 5,
      "outputs": [
        {
          "output_type": "stream",
          "text": [
            "tensor([ 0.2396,  0.2677, -0.0952,  0.1885, -0.0029, -0.0093,  0.2247,  0.1506,\n",
            "        -0.1617,  0.0995], grad_fn=<AddBackward0>)\n",
            "Net(\n",
            "  (fc1): Linear(in_features=150, out_features=200, bias=True)\n",
            "  (relu): ReLU()\n",
            "  (fc2): Linear(in_features=200, out_features=10, bias=True)\n",
            ")\n"
          ],
          "name": "stdout"
        }
      ]
    },
    {
      "cell_type": "markdown",
      "metadata": {
        "id": "HJq7RXatvy5Y",
        "colab_type": "text"
      },
      "source": [
        "Hemos visto los principales conceptos de programación orientada a objetos y como se utilizan en PyTorch para poder extender clases y facilitar así la creación de modelos de deep learning."
      ]
    }
  ]
}