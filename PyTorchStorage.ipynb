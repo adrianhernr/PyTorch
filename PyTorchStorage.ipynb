{
  "nbformat": 4,
  "nbformat_minor": 0,
  "metadata": {
    "colab": {
      "name": "PyTorchStorage.ipynb",
      "provenance": [],
      "collapsed_sections": []
    },
    "kernelspec": {
      "name": "python3",
      "display_name": "Python 3"
    },
    "language_info": {
      "name": "python"
    }
  },
  "cells": [
    {
      "cell_type": "markdown",
      "source": [
        "Como hemos visto, los Tensores son un elemento básico en PyTorch. Son los elementos de diferente rango (escalares, vectores, matrics, etc.) que contienen la información en PyTorch y sobre los que actúan los modelos.\n",
        "\n",
        "Sin embargo, a pesar de su rango y dimensiones, los tensores se almacenan en memoria en un array unidimensional de elementos contiguos. De esta forma se homogeiniza su almacenamiento y se hace más eficiente su tratamient\n",
        "\n",
        "A esta información se accede a través de la clase Torch.storage(). A continuación, vemos un ejemplo de un tensor y su almacenamiento en un array unidimensional."
      ],
      "metadata": {
        "id": "IKu64eD5M357"
      }
    },
    {
      "cell_type": "code",
      "source": [
        "import torch \n",
        "\n",
        "tensor1 = torch.tensor([[2.0, 1.0], [4.0, 3.0], [2.0, 1.0]])\n",
        "tensor1.storage()"
      ],
      "metadata": {
        "colab": {
          "base_uri": "https://localhost:8080/"
        },
        "id": "vndEb4_bQGuu",
        "outputId": "80b9e01f-3e3f-4e46-a274-7752f87da25d"
      },
      "execution_count": 2,
      "outputs": [
        {
          "output_type": "execute_result",
          "data": {
            "text/plain": [
              " 2.0\n",
              " 1.0\n",
              " 4.0\n",
              " 3.0\n",
              " 2.0\n",
              " 1.0\n",
              "[torch.storage._TypedStorage(dtype=torch.float32, device=cpu) of size 6]"
            ]
          },
          "metadata": {},
          "execution_count": 2
        }
      ]
    },
    {
      "cell_type": "markdown",
      "source": [
        "Los tensores son vistas de este almacenamiento y para poder relacionar las diferentes vistas con un único almacenamiento, PyTorch hace uso de los metadatos size, offset y stride. \n",
        "\n",
        "Size es como shape en numpy e indica el número de elementos en cada dimensión. Offset es el índice en el almacenamiento (storage) que indica donde está el primer elemento del tensor y el stride es el número de desplazamientos en el almacenamiento necesarios para indexar el siguiente elemento en cada dimensión.\n",
        "\n",
        "A continuación, vemos estos metadatos para nuestro tensor."
      ],
      "metadata": {
        "id": "kZPOr9--Qw2I"
      }
    },
    {
      "cell_type": "code",
      "source": [
        "print(\"El tamaño (size) es\", tensor1.size())\n",
        "\n",
        "print(\"El offset es\", tensor1.storage_offset())\n",
        "\n",
        "print(\"El stride es\", tensor1.stride())"
      ],
      "metadata": {
        "colab": {
          "base_uri": "https://localhost:8080/"
        },
        "id": "j3MxZpYoS5Re",
        "outputId": "ccd57886-bc68-4194-d7fd-0c0d068b63f6"
      },
      "execution_count": 15,
      "outputs": [
        {
          "output_type": "stream",
          "name": "stdout",
          "text": [
            "El tamaño (size) es torch.Size([3, 2])\n",
            "El offset es 0\n",
            "El stride es (2, 1)\n"
          ]
        }
      ]
    },
    {
      "cell_type": "markdown",
      "source": [
        "Como se puede ver, nuestro tensor tiene un tamaño de 3 filas y dos columnas y el primer elemento del tensor está en la posición cero del almacenamiento. \n",
        "\n",
        "Para movernos una posición en la primera dimensión/segunda dimensión (fila/columna) necesitamos avanzar (2,1) posiciones en el almacenamiento.\n",
        "\n",
        "A continuación creamos otro tensor de 3 filas y 3 columnas y vemos como ahora para movernos en la primera dimensión (fila) necesitamos avanzar 3 posiciones en el almacenamiento."
      ],
      "metadata": {
        "id": "TZGLotTbUmO-"
      }
    },
    {
      "cell_type": "code",
      "source": [
        "tensor2=torch.rand(3,3)\n",
        "\n",
        "print(\"El tamaño (size) es\", tensor2.size())\n",
        "\n",
        "print(\"El offset es\", tensor2.storage_offset())\n",
        "\n",
        "print(\"El stride es\", tensor2.stride())"
      ],
      "metadata": {
        "colab": {
          "base_uri": "https://localhost:8080/"
        },
        "id": "V7rmLCpVYGVj",
        "outputId": "1cc6c516-a94c-4830-a698-6e8e9be9cc9c"
      },
      "execution_count": 17,
      "outputs": [
        {
          "output_type": "stream",
          "name": "stdout",
          "text": [
            "El tamaño (size) es torch.Size([3, 3])\n",
            "El offset es 0\n",
            "El stride es (3, 1)\n"
          ]
        }
      ]
    },
    {
      "cell_type": "markdown",
      "source": [
        "Un tensor cuya vista coincida con el almacenamiento es un tensor contiguo. Es decir, sus valores se almacenan desde la dimensión más a la derecha hacia adelante. Esto es conveniente en términos de eficiencia porque podemos recorrer el tensor en orden sin hacer saltos en la memoria.\n",
        "\n",
        "Hay una serie de operaciones en PyTorch que no cambien el almacenamiento pero sí que cambian la vista y consecuentemente los metadatos de vista del tensor. Son las operaciones narrow(), view(), expand() y transpose().\n",
        "\n",
        "Vamos a transponer nuestro primer vector y ver su storage y sus metadatos."
      ],
      "metadata": {
        "id": "UZoVVWX-YhA2"
      }
    },
    {
      "cell_type": "code",
      "source": [
        "tensor1_transpose=tensor1.transpose(0,1)\n",
        "print(tensor1_transpose)\n",
        "print(tensor1_transpose.storage())\n",
        "\n",
        "print(\"¿Es el tensor contiguo?\", tensor1_transpose.is_contiguous())\n",
        "\n",
        "print(\"El tamaño (size) es\", tensor1_transpose.size())\n",
        "\n",
        "print(\"El offset es\", tensor1_transpose.storage_offset())\n",
        "\n",
        "print(\"El stride es\", tensor1_transpose.stride())\n"
      ],
      "metadata": {
        "colab": {
          "base_uri": "https://localhost:8080/"
        },
        "id": "PngJTNgFZEqy",
        "outputId": "113ec3f6-a534-4fcb-cd9a-e660322e6ed5"
      },
      "execution_count": 25,
      "outputs": [
        {
          "output_type": "stream",
          "name": "stdout",
          "text": [
            "tensor([[2., 4., 2.],\n",
            "        [1., 3., 1.]])\n",
            " 2.0\n",
            " 1.0\n",
            " 4.0\n",
            " 3.0\n",
            " 2.0\n",
            " 1.0\n",
            "[torch.storage._TypedStorage(dtype=torch.float32, device=cpu) of size 6]\n",
            "¿Es el tensor contiguo? False\n",
            "El tamaño (size) es torch.Size([2, 3])\n",
            "El offset es 0\n",
            "El stride es (1, 2)\n"
          ]
        }
      ]
    },
    {
      "cell_type": "markdown",
      "source": [
        "Como podemos ver, el almacenamiento interno del tensor transpuesto con dos filas y tres columnas no cambia pero sí que cambian los metadatos de vista. Ahora el tensor no es contiguo y el stride es (1,2), por lo que necesitamos avanzar (1,2) posiciones en el almacenamiento para avanzar una posición en la (fila/columna)."
      ],
      "metadata": {
        "id": "TfF4ZvR1aSde"
      }
    },
    {
      "cell_type": "code",
      "execution_count": null,
      "metadata": {
        "id": "qJ4oh6mrM1Su"
      },
      "outputs": [],
      "source": [
        ""
      ]
    }
  ]
}