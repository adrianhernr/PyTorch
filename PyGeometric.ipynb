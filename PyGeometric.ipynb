{
  "nbformat": 4,
  "nbformat_minor": 0,
  "metadata": {
    "colab": {
      "name": "PyGeometric.ipynb",
      "provenance": [],
      "collapsed_sections": []
    },
    "kernelspec": {
      "name": "python3",
      "display_name": "Python 3"
    },
    "language_info": {
      "name": "python"
    }
  },
  "cells": [
    {
      "cell_type": "markdown",
      "metadata": {
        "id": "9NgDqE8KYIl1"
      },
      "source": [
        "En este post vamos a ver una introducción a las Graph Neural Networks (GNNs) y la librería PyTorch Geometric que nos permite aplicar el deep learning a datos no estructurados, como grafos, empleando este tipo de modelos. \n",
        "Las GNNs permiten aplicar redes neuronales a grafos, teniendo en cuenta su estructura basada en nodos conectados entre sí. Para ello, cada estado x del nodo v del grafo G=(V,E) se va actualizando iterativamente agregando información de los nodos vecinos N(v):\n",
        "$$\n",
        "\\mathbf{x}_v^{(\\ell + 1)} = f^{(\\ell + 1)}_{\\theta} \\left( \\mathbf{x}_v^{(\\ell)}, \\left\\{ \\mathbf{x}_w^{(\\ell)} : w \\in \\mathcal{N}(v) \\right\\} \\right)\n",
        "$$ \n"
      ]
    },
    {
      "cell_type": "markdown",
      "metadata": {
        "id": "0NRNtE-YalGg"
      },
      "source": [
        "Lo primero que debemos conocer de PyTorch Geometric es la clase torch_geometric.data.Data que almacena los datos del grafo. Esta clase tiene los siguientes atributos:\n",
        "\n",
        "*   data.x: La matriz con los features de cada nodo del grafo. Tiene dimensión [num_nodes, num_node_features]\n",
        "*   data.edge_index: La conectividad del grafo en formato COO. Para cada índice, representa el nodo origen y el destino. Tiene dimensión [2, num_edges].\n",
        "*   data.edge_attr: La matriz con los features de los enlaces del grafo.\n",
        "*   data.y: Las etiquetas con las que entrenar. P.e. una etiqueta para cada nodo o para una para el grafo completo.\n",
        "\n",
        "Vamos a ver un ejemplo de esta clase. Primero vamos a instalar las librerías de PyTorch Geometric.\n",
        "\n",
        "\n",
        "\n",
        "\n"
      ]
    },
    {
      "cell_type": "code",
      "metadata": {
        "id": "KuZmSrk7fd36"
      },
      "source": [
        "!pip install torch-scatter -f https://pytorch-geometric.com/whl/torch-1.8.0+cu101.html\n",
        "!pip install torch-sparse -f https://pytorch-geometric.com/whl/torch-1.8.0+cu101.html\n",
        "!pip install torch-cluster -f https://pytorch-geometric.com/whl/torch-1.8.0+cu101.html\n",
        "!pip install torch-spline-conv -f https://pytorch-geometric.com/whl/torch-1.8.0+cu101.html\n",
        "!pip install torch-geometric"
      ],
      "execution_count": null,
      "outputs": []
    },
    {
      "cell_type": "markdown",
      "metadata": {
        "id": "7bbaZaiCgHo8"
      },
      "source": [
        "De los datasets que vienen con la librería, vamos a importar Cora, una red de citas donde los nodos representan documentos, y ver sus características."
      ]
    },
    {
      "cell_type": "code",
      "metadata": {
        "colab": {
          "base_uri": "https://localhost:8080/"
        },
        "id": "CDKZUrO_fzjp",
        "outputId": "80b983b6-278a-40b5-8152-2597070f0ed8"
      },
      "source": [
        "from torch_geometric.datasets import Planetoid\n",
        "\n",
        "dataset = Planetoid(root='/tmp/Cora', name='Cora')\n",
        "\n",
        "data = dataset[0]\n",
        "print(data)\n",
        "\n",
        "print(f'Número de nodos: {data.num_nodes}')\n",
        "print(f'Número de features por nodo: {data.num_node_features}')\n",
        "print(f'Número de clases: {dataset.num_classes}')\n",
        "print(f'Número de enlaces: {data.num_edges}')\n",
        "print(f'Grado medio de los nodos: {data.num_edges / data.num_nodes:.2f}')\n",
        "print(f'Número de nodos de entrenamiento: {data.train_mask.sum()}')\n",
        "print(f'Número de nodos de validación: {data.val_mask.sum()}')\n",
        "print(f'Número de nodos de tests: {data.test_mask.sum()}')\n",
        "print(f'Contiene nodos aislados: {data.contains_isolated_nodes()}')\n",
        "print(f'Contiene bucles: {data.contains_self_loops()}')\n",
        "print(f'No es dirigido: {data.is_undirected()}')\n",
        "\n"
      ],
      "execution_count": 2,
      "outputs": [
        {
          "output_type": "stream",
          "text": [
            "Downloading https://github.com/kimiyoung/planetoid/raw/master/data/ind.cora.x\n",
            "Downloading https://github.com/kimiyoung/planetoid/raw/master/data/ind.cora.tx\n",
            "Downloading https://github.com/kimiyoung/planetoid/raw/master/data/ind.cora.allx\n",
            "Downloading https://github.com/kimiyoung/planetoid/raw/master/data/ind.cora.y\n",
            "Downloading https://github.com/kimiyoung/planetoid/raw/master/data/ind.cora.ty\n",
            "Downloading https://github.com/kimiyoung/planetoid/raw/master/data/ind.cora.ally\n",
            "Downloading https://github.com/kimiyoung/planetoid/raw/master/data/ind.cora.graph\n",
            "Downloading https://github.com/kimiyoung/planetoid/raw/master/data/ind.cora.test.index\n",
            "Processing...\n",
            "Done!\n",
            "Data(edge_index=[2, 10556], test_mask=[2708], train_mask=[2708], val_mask=[2708], x=[2708, 1433], y=[2708])\n",
            "Número de nodos: 2708\n",
            "Número de features por nodo: 1433\n",
            "Número de clases: 7\n",
            "Número de enlaces: 10556\n",
            "Grado medio de los nodos: 3.90\n",
            "Número de nodos de entrenamiento: 140\n",
            "Número de nodos de validación: 500\n",
            "Número de nodos de tests: 1000\n",
            "Contiene nodos aislados: False\n",
            "Contiene bucles: False\n",
            "No es dirigido: True\n"
          ],
          "name": "stdout"
        }
      ]
    },
    {
      "cell_type": "code",
      "metadata": {
        "colab": {
          "base_uri": "https://localhost:8080/"
        },
        "id": "Nq1pdWYGkeII",
        "outputId": "c689ee8f-c3ad-4545-d7de-5becc5d70f17"
      },
      "source": [
        "#Mostramos la matriz de enlaces en formato COO\n",
        "data.edge_index.t()"
      ],
      "execution_count": 3,
      "outputs": [
        {
          "output_type": "execute_result",
          "data": {
            "text/plain": [
              "tensor([[   0,  633],\n",
              "        [   0, 1862],\n",
              "        [   0, 2582],\n",
              "        ...,\n",
              "        [2707,  598],\n",
              "        [2707, 1473],\n",
              "        [2707, 2706]])"
            ]
          },
          "metadata": {
            "tags": []
          },
          "execution_count": 3
        }
      ]
    },
    {
      "cell_type": "code",
      "metadata": {
        "colab": {
          "base_uri": "https://localhost:8080/"
        },
        "id": "wnu2UoTmgFWG",
        "outputId": "8af9d6ab-7643-43c8-cb6c-a6c5c4c90d15"
      },
      "source": [
        "#Mostramos las etiquetas de los primeros 100 nodos\n",
        "data.y[0:100]"
      ],
      "execution_count": 4,
      "outputs": [
        {
          "output_type": "execute_result",
          "data": {
            "text/plain": [
              "tensor([3, 4, 4, 0, 3, 2, 0, 3, 3, 2, 0, 0, 4, 3, 3, 3, 2, 3, 1, 3, 5, 3, 4, 6,\n",
              "        3, 3, 6, 3, 2, 4, 3, 6, 0, 4, 2, 0, 1, 5, 4, 4, 3, 6, 6, 4, 3, 3, 2, 5,\n",
              "        3, 4, 5, 3, 0, 2, 1, 4, 6, 3, 2, 2, 0, 0, 0, 4, 2, 0, 4, 5, 2, 6, 5, 2,\n",
              "        2, 2, 0, 4, 5, 6, 4, 0, 0, 0, 4, 2, 4, 1, 4, 6, 0, 4, 2, 4, 6, 6, 0, 0,\n",
              "        6, 5, 0, 6])"
            ]
          },
          "metadata": {
            "tags": []
          },
          "execution_count": 4
        }
      ]
    },
    {
      "cell_type": "code",
      "metadata": {
        "colab": {
          "base_uri": "https://localhost:8080/"
        },
        "id": "03hNdGRflslZ",
        "outputId": "fceb9589-be22-475e-c7e6-440ff416f538"
      },
      "source": [
        "#Mostramos la máscara que indica que nodos son para entrenamiento\n",
        "#viendo que son los primeros 140\n",
        "data.train_mask[0:150]"
      ],
      "execution_count": 5,
      "outputs": [
        {
          "output_type": "execute_result",
          "data": {
            "text/plain": [
              "tensor([ True,  True,  True,  True,  True,  True,  True,  True,  True,  True,\n",
              "         True,  True,  True,  True,  True,  True,  True,  True,  True,  True,\n",
              "         True,  True,  True,  True,  True,  True,  True,  True,  True,  True,\n",
              "         True,  True,  True,  True,  True,  True,  True,  True,  True,  True,\n",
              "         True,  True,  True,  True,  True,  True,  True,  True,  True,  True,\n",
              "         True,  True,  True,  True,  True,  True,  True,  True,  True,  True,\n",
              "         True,  True,  True,  True,  True,  True,  True,  True,  True,  True,\n",
              "         True,  True,  True,  True,  True,  True,  True,  True,  True,  True,\n",
              "         True,  True,  True,  True,  True,  True,  True,  True,  True,  True,\n",
              "         True,  True,  True,  True,  True,  True,  True,  True,  True,  True,\n",
              "         True,  True,  True,  True,  True,  True,  True,  True,  True,  True,\n",
              "         True,  True,  True,  True,  True,  True,  True,  True,  True,  True,\n",
              "         True,  True,  True,  True,  True,  True,  True,  True,  True,  True,\n",
              "         True,  True,  True,  True,  True,  True,  True,  True,  True,  True,\n",
              "        False, False, False, False, False, False, False, False, False, False])"
            ]
          },
          "metadata": {
            "tags": []
          },
          "execution_count": 5
        }
      ]
    },
    {
      "cell_type": "markdown",
      "metadata": {
        "id": "KR4u0xoZvYbU"
      },
      "source": [
        "Ahora, vamos a definir un modelo para realizar una clasificación de los nodos. Para ello vamos a usar dos capas GCNConv que implementarán la Graph Neural Network. Después de la primera GCN (convierte de la dimensión número de features al número de canales 16) añadimos un ReLU y después de la segunda (convierte de 16 al número de clases) un softmax sobre el número de clases. Como se puede ver, las capas se aplican sobre los datos con los features de cada nodo y sobre edge_index, que contiene la estructura del grafo."
      ]
    },
    {
      "cell_type": "code",
      "metadata": {
        "colab": {
          "base_uri": "https://localhost:8080/"
        },
        "id": "HkzFb1fKwRN-",
        "outputId": "327ff39c-a448-4070-cd79-363d5d5c7d09"
      },
      "source": [
        "import torch\n",
        "import torch.nn.functional as F\n",
        "from torch_geometric.nn import GCNConv\n",
        "\n",
        "class GCN(torch.nn.Module):\n",
        "    def __init__(self):\n",
        "        super(GCN, self).__init__()\n",
        "        self.conv1 = GCNConv(dataset.num_node_features, 16)\n",
        "        self.conv2 = GCNConv(16, dataset.num_classes)\n",
        "\n",
        "    def forward(self, data):\n",
        "        x, edge_index = data.x, data.edge_index\n",
        "\n",
        "        x = self.conv1(x, edge_index)\n",
        "        x = F.relu(x)\n",
        "        x = F.dropout(x, training=self.training)\n",
        "        x = self.conv2(x, edge_index)\n",
        "\n",
        "        return F.log_softmax(x, dim=1)\n",
        "\n",
        "model = GCN()\n",
        "print(model)"
      ],
      "execution_count": 11,
      "outputs": [
        {
          "output_type": "stream",
          "text": [
            "GCN(\n",
            "  (conv1): GCNConv(1433, 16)\n",
            "  (conv2): GCNConv(16, 7)\n",
            ")\n"
          ],
          "name": "stdout"
        }
      ]
    },
    {
      "cell_type": "markdown",
      "metadata": {
        "id": "nNkyakftzrDd"
      },
      "source": [
        "Ahora, vamos a entrerar el modelo usando 250 epochs (rondas) de los datos. Como se puede observar, usamos la máscara de entrenamiento para decir cuáles son los nodos que se tienen que usar para entrenar el modelo."
      ]
    },
    {
      "cell_type": "code",
      "metadata": {
        "id": "ftJDjNWaz2CP"
      },
      "source": [
        "optimizer = torch.optim.Adam(model.parameters(), lr=0.01, weight_decay=5e-4)\n",
        "\n",
        "model.train()\n",
        "for epoch in range(250):\n",
        "    optimizer.zero_grad()\n",
        "    out = model(data)\n",
        "    loss = F.nll_loss(out[data.train_mask], data.y[data.train_mask])\n",
        "    loss.backward()\n",
        "    optimizer.step()"
      ],
      "execution_count": 12,
      "outputs": []
    },
    {
      "cell_type": "markdown",
      "metadata": {
        "id": "i--3oeCj0IMu"
      },
      "source": [
        "Por último, evaluamos el modelo usando la máscara que indica los nodos de test y vemos que el modelo tiene una buena tasa de acierto."
      ]
    },
    {
      "cell_type": "code",
      "metadata": {
        "colab": {
          "base_uri": "https://localhost:8080/"
        },
        "id": "oGra4e7P0MYh",
        "outputId": "4c83ad0e-7785-4949-90c4-275e867d5149"
      },
      "source": [
        "model.eval()\n",
        "_, pred = model(data).max(dim=1)\n",
        "correct = int(pred[data.test_mask].eq(data.y[data.test_mask]).sum().item())\n",
        "acc = correct / int(data.test_mask.sum())\n",
        "print('Accuracy: {:.4f}'.format(acc))"
      ],
      "execution_count": 13,
      "outputs": [
        {
          "output_type": "stream",
          "text": [
            "Accuracy: 0.8050\n"
          ],
          "name": "stdout"
        }
      ]
    },
    {
      "cell_type": "code",
      "metadata": {
        "id": "EdYrzbAVXIul"
      },
      "source": [
        "\n"
      ],
      "execution_count": null,
      "outputs": []
    }
  ]
}