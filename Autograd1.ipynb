{
  "nbformat": 4,
  "nbformat_minor": 0,
  "metadata": {
    "colab": {
      "name": "Gradient.ipynb",
      "provenance": [],
      "collapsed_sections": []
    },
    "kernelspec": {
      "name": "python3",
      "display_name": "Python 3"
    },
    "accelerator": "GPU"
  },
  "cells": [
    {
      "cell_type": "code",
      "metadata": {
        "id": "UVVmKQEaxKWI",
        "colab_type": "code",
        "colab": {}
      },
      "source": [
        "from torch import FloatTensor\n",
        "from torch.autograd import Variable\n",
        "import torch\n",
        "\n",
        "# Leaf nodes are defined\n",
        "a1 = Variable(FloatTensor([4]))\n",
        "a2 = Variable(FloatTensor([3]))\n",
        "L=0\n",
        "\n",
        "# Variables with gradients required are define\n",
        "w=Variable(FloatTensor([2,5,9,7,3]), requires_grad=True)\n",
        "\n",
        "\n",
        "for i in range(1,3):\n",
        "\n",
        "  b1 = w[0] * a1*i + w[1] * a2 #b1=2*4+5*3=23\n",
        "  b2 = w[2] * a1 #b2=9*4=36\n",
        "  c = w[3] * b1 + w[4] * b2\n",
        "  L1 = (15 - c)\n",
        "#  with torch.no_grad():\n",
        "  L+=L1\n",
        "\n",
        "#L=L1\n",
        "L.backward()\n",
        "\n",
        "gradient = w.grad.data\n",
        "for i in range(0, 5):\n",
        "    print(f\"Gradiente de w{i} respecto a L: {gradient[i]}\")"
      ],
      "execution_count": 0,
      "outputs": []
    }
  ]
}